{
  "nbformat": 4,
  "nbformat_minor": 0,
  "metadata": {
    "colab": {
      "provenance": [],
      "authorship_tag": "ABX9TyMAuL7+qr9Ch55jZ4f/CcYO",
      "include_colab_link": true
    },
    "kernelspec": {
      "name": "python3",
      "display_name": "Python 3"
    },
    "language_info": {
      "name": "python"
    }
  },
  "cells": [
    {
      "cell_type": "markdown",
      "metadata": {
        "id": "view-in-github",
        "colab_type": "text"
      },
      "source": [
        "<a href=\"https://colab.research.google.com/github/ssrkb/Python/blob/main/basics.ipynb\" target=\"_parent\"><img src=\"https://colab.research.google.com/assets/colab-badge.svg\" alt=\"Open In Colab\"/></a>"
      ]
    },
    {
      "cell_type": "code",
      "execution_count": 1,
      "metadata": {
        "colab": {
          "base_uri": "https://localhost:8080/"
        },
        "id": "2BNtu-G9y3vt",
        "outputId": "55783bb2-acb6-47a5-ef4c-a73815a94db6"
      },
      "outputs": [
        {
          "output_type": "stream",
          "name": "stdout",
          "text": [
            "Hare Krishna\n"
          ]
        }
      ],
      "source": [
        "print(\"Hare Krishna\")"
      ]
    },
    {
      "cell_type": "code",
      "source": [
        "name=\"soham\"\n",
        "print(name)\n",
        "print(type(name))\n",
        "# int , float, string, boolean, none <-- main data types"
      ],
      "metadata": {
        "colab": {
          "base_uri": "https://localhost:8080/"
        },
        "id": "Jp8N7N9zzDyV",
        "outputId": "01c797a7-1abd-4140-a64a-1cb9d1590291"
      },
      "execution_count": 5,
      "outputs": [
        {
          "output_type": "stream",
          "name": "stdout",
          "text": [
            "soham\n",
            "<class 'str'>\n"
          ]
        }
      ]
    },
    {
      "cell_type": "code",
      "source": [
        "\"\"\"4 types of operators\n",
        "  arithmetic --> +, -, *, /, %, **(power)\n",
        "  relational --> ==, !=, >, <, >=, <=\n",
        "  assignment --> =, +=, -=, *=, /=, %=, **=\n",
        "  boolean --> and , or , not\n",
        "\"\"\""
      ],
      "metadata": {
        "id": "2fFgPnLk0OKJ"
      },
      "execution_count": null,
      "outputs": []
    },
    {
      "cell_type": "code",
      "source": [
        "\"\"\"\n",
        "type conversion - interpreter automatically converts\n",
        "type casting - we do it manually\n",
        "\"\"\"\n",
        "num = int(\"34\")\n",
        "print(type(num), num)"
      ],
      "metadata": {
        "colab": {
          "base_uri": "https://localhost:8080/"
        },
        "id": "8VjUqltC1W13",
        "outputId": "c2c01306-3fb5-4c79-8ae8-73e9526cd505"
      },
      "execution_count": 6,
      "outputs": [
        {
          "output_type": "stream",
          "name": "stdout",
          "text": [
            "<class 'int'> 34\n"
          ]
        }
      ]
    },
    {
      "cell_type": "code",
      "source": [
        "name = input(\"enter your name : \")\n",
        "print(name)\n",
        "# all inputs has type string\n",
        "age = int(input(\"enter your age : \"))\n",
        "print(age)"
      ],
      "metadata": {
        "colab": {
          "base_uri": "https://localhost:8080/"
        },
        "id": "kV0w6Q1m2OHH",
        "outputId": "641362c3-e5a4-4547-dd1b-26504212ae12"
      },
      "execution_count": 2,
      "outputs": [
        {
          "output_type": "stream",
          "name": "stdout",
          "text": [
            "enter your age : 23\n",
            "23\n"
          ]
        }
      ]
    },
    {
      "cell_type": "code",
      "source": [
        "# slicing\n",
        "name = \"soham chougule\"\n",
        "print(name[1:len(name)])\n",
        "print(name[:len(name)])\n",
        "print(name[-8:len(name)])\n",
        "print(name[6:])"
      ],
      "metadata": {
        "colab": {
          "base_uri": "https://localhost:8080/"
        },
        "id": "PQc7qpaPiw8t",
        "outputId": "dd99fd39-05e7-4e2b-d61c-58cce867a2a4"
      },
      "execution_count": 14,
      "outputs": [
        {
          "output_type": "stream",
          "name": "stdout",
          "text": [
            "oham chougule\n",
            "soham chougule\n",
            "chougule\n",
            "chougule\n"
          ]
        }
      ]
    },
    {
      "cell_type": "code",
      "source": [
        "#lists --> mutable\n",
        "# but strings are immutable ex- name[0]='k' not allowed\n",
        "marks=[1,2,95,75]\n",
        "print(marks)\n",
        "print(marks[4:5])\n",
        "marks.sort(reverse=True)\n",
        "print(marks)"
      ],
      "metadata": {
        "colab": {
          "base_uri": "https://localhost:8080/"
        },
        "id": "z4pkOlayoelg",
        "outputId": "9b64e644-bb88-452d-b73b-8145819967f4"
      },
      "execution_count": 25,
      "outputs": [
        {
          "output_type": "stream",
          "name": "stdout",
          "text": [
            "[1, 2, 95, 75]\n",
            "[]\n",
            "[95, 75, 2, 1]\n"
          ]
        }
      ]
    },
    {
      "cell_type": "code",
      "source": [
        "# tuple --> immutable\n",
        "tup = (1,2,3,4)\n",
        "print(tup[1])\n",
        "print(tup[:3])"
      ],
      "metadata": {
        "colab": {
          "base_uri": "https://localhost:8080/"
        },
        "id": "-GUKFHAUx4Wo",
        "outputId": "0906ccfc-9954-4b61-882e-63e8da6ebea7"
      },
      "execution_count": 6,
      "outputs": [
        {
          "output_type": "stream",
          "name": "stdout",
          "text": [
            "2\n",
            "(1, 2, 3)\n"
          ]
        }
      ]
    },
    {
      "cell_type": "code",
      "source": [
        "mov = []\n",
        "for i in range(3):\n",
        "  a = input(\"enter name\")\n",
        "  mov.append(a);\n",
        "print(mov )"
      ],
      "metadata": {
        "colab": {
          "base_uri": "https://localhost:8080/"
        },
        "id": "WyLq2WQIiklD",
        "outputId": "5a1a886f-3833-4950-8f59-e267f7b87a8d"
      },
      "execution_count": 15,
      "outputs": [
        {
          "output_type": "stream",
          "name": "stdout",
          "text": [
            "enter name1\n",
            "enter name1\n",
            "enter name2\n",
            "['1', '1', '2']\n"
          ]
        }
      ]
    },
    {
      "cell_type": "code",
      "source": [],
      "metadata": {
        "id": "3PwjLeOSj9CA"
      },
      "execution_count": null,
      "outputs": []
    }
  ]
}