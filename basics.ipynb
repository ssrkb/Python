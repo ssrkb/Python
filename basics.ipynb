{
  "nbformat": 4,
  "nbformat_minor": 0,
  "metadata": {
    "colab": {
      "provenance": [],
      "authorship_tag": "ABX9TyOTlHIMQG/sCy2jwaUgQeZj",
      "include_colab_link": true
    },
    "kernelspec": {
      "name": "python3",
      "display_name": "Python 3"
    },
    "language_info": {
      "name": "python"
    }
  },
  "cells": [
    {
      "cell_type": "markdown",
      "metadata": {
        "id": "view-in-github",
        "colab_type": "text"
      },
      "source": [
        "<a href=\"https://colab.research.google.com/github/ssrkb/Python/blob/main/basics.ipynb\" target=\"_parent\"><img src=\"https://colab.research.google.com/assets/colab-badge.svg\" alt=\"Open In Colab\"/></a>"
      ]
    },
    {
      "cell_type": "code",
      "execution_count": 1,
      "metadata": {
        "colab": {
          "base_uri": "https://localhost:8080/"
        },
        "id": "2BNtu-G9y3vt",
        "outputId": "55783bb2-acb6-47a5-ef4c-a73815a94db6"
      },
      "outputs": [
        {
          "output_type": "stream",
          "name": "stdout",
          "text": [
            "Hare Krishna\n"
          ]
        }
      ],
      "source": [
        "print(\"Hare Krishna\")"
      ]
    },
    {
      "cell_type": "code",
      "source": [
        "name=\"soham\"\n",
        "print(name)\n",
        "print(type(name))\n",
        "# int , float, string, boolean, none <-- main data types"
      ],
      "metadata": {
        "colab": {
          "base_uri": "https://localhost:8080/"
        },
        "id": "Jp8N7N9zzDyV",
        "outputId": "01c797a7-1abd-4140-a64a-1cb9d1590291"
      },
      "execution_count": 5,
      "outputs": [
        {
          "output_type": "stream",
          "name": "stdout",
          "text": [
            "soham\n",
            "<class 'str'>\n"
          ]
        }
      ]
    },
    {
      "cell_type": "code",
      "source": [
        "\"\"\"4 types of operators\n",
        "  arithmetic --> +, -, *, /, %, **(power)\n",
        "  relational --> ==, !=, >, <, >=, <=\n",
        "  assignment --> =, +=, -=, *=, /=, %=, **=\n",
        "  boolean --> and , or , not\n",
        "\"\"\""
      ],
      "metadata": {
        "id": "2fFgPnLk0OKJ"
      },
      "execution_count": null,
      "outputs": []
    },
    {
      "cell_type": "code",
      "source": [
        "\"\"\"\n",
        "type conversion - interpreter automatically converts\n",
        "type casting - we do it manually\n",
        "\"\"\"\n",
        "num = int(\"34\")\n",
        "print(type(num), num)"
      ],
      "metadata": {
        "colab": {
          "base_uri": "https://localhost:8080/"
        },
        "id": "8VjUqltC1W13",
        "outputId": "c2c01306-3fb5-4c79-8ae8-73e9526cd505"
      },
      "execution_count": 6,
      "outputs": [
        {
          "output_type": "stream",
          "name": "stdout",
          "text": [
            "<class 'int'> 34\n"
          ]
        }
      ]
    },
    {
      "cell_type": "code",
      "source": [
        "name = input(\"enter your name : \")\n",
        "print(name)\n",
        "# all inputs has type string\n",
        "age = int(input(\"enter your age : \"))\n",
        "print(age)"
      ],
      "metadata": {
        "colab": {
          "base_uri": "https://localhost:8080/"
        },
        "id": "kV0w6Q1m2OHH",
        "outputId": "641362c3-e5a4-4547-dd1b-26504212ae12"
      },
      "execution_count": 2,
      "outputs": [
        {
          "output_type": "stream",
          "name": "stdout",
          "text": [
            "enter your age : 23\n",
            "23\n"
          ]
        }
      ]
    }
  ]
}