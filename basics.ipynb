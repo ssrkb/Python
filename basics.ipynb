{
  "nbformat": 4,
  "nbformat_minor": 0,
  "metadata": {
    "colab": {
      "provenance": [],
      "authorship_tag": "ABX9TyMCaWSOOVowUgaa7qixe+Ck",
      "include_colab_link": true
    },
    "kernelspec": {
      "name": "python3",
      "display_name": "Python 3"
    },
    "language_info": {
      "name": "python"
    }
  },
  "cells": [
    {
      "cell_type": "markdown",
      "metadata": {
        "id": "view-in-github",
        "colab_type": "text"
      },
      "source": [
        "<a href=\"https://colab.research.google.com/github/ssrkb/Python/blob/main/basics.ipynb\" target=\"_parent\"><img src=\"https://colab.research.google.com/assets/colab-badge.svg\" alt=\"Open In Colab\"/></a>"
      ]
    },
    {
      "cell_type": "code",
      "execution_count": 1,
      "metadata": {
        "colab": {
          "base_uri": "https://localhost:8080/"
        },
        "id": "2BNtu-G9y3vt",
        "outputId": "55783bb2-acb6-47a5-ef4c-a73815a94db6"
      },
      "outputs": [
        {
          "output_type": "stream",
          "name": "stdout",
          "text": [
            "Hare Krishna\n"
          ]
        }
      ],
      "source": [
        "print(\"Hare Krishna\")"
      ]
    },
    {
      "cell_type": "code",
      "source": [
        "name=\"soham\"\n",
        "print(name)\n",
        "print(type(name))\n",
        "# int , float, string, boolean, none <-- main data types"
      ],
      "metadata": {
        "colab": {
          "base_uri": "https://localhost:8080/"
        },
        "id": "Jp8N7N9zzDyV",
        "outputId": "01c797a7-1abd-4140-a64a-1cb9d1590291"
      },
      "execution_count": 5,
      "outputs": [
        {
          "output_type": "stream",
          "name": "stdout",
          "text": [
            "soham\n",
            "<class 'str'>\n"
          ]
        }
      ]
    },
    {
      "cell_type": "code",
      "source": [
        "\"\"\"4 types of operators\n",
        "  arithmetic --> +, -, *, /, %, **(power)\n",
        "  relational --> ==, !=, >, <, >=, <=\n",
        "  assignment --> =, +=, -=, *=, /=, %=, **=\n",
        "  boolean --> and , or , not\n",
        "\"\"\""
      ],
      "metadata": {
        "id": "2fFgPnLk0OKJ"
      },
      "execution_count": null,
      "outputs": []
    },
    {
      "cell_type": "code",
      "source": [
        "\"\"\"\n",
        "type conversion - interpreter automatically converts\n",
        "type casting - we do it manually\n",
        "\"\"\"\n",
        "num = int(\"34\")\n",
        "print(type(num), num)"
      ],
      "metadata": {
        "colab": {
          "base_uri": "https://localhost:8080/"
        },
        "id": "8VjUqltC1W13",
        "outputId": "c2c01306-3fb5-4c79-8ae8-73e9526cd505"
      },
      "execution_count": 6,
      "outputs": [
        {
          "output_type": "stream",
          "name": "stdout",
          "text": [
            "<class 'int'> 34\n"
          ]
        }
      ]
    },
    {
      "cell_type": "code",
      "source": [
        "name = input(\"enter your name : \")\n",
        "print(name)\n",
        "# all inputs has type string\n",
        "age = int(input(\"enter your age : \"))\n",
        "print(age)"
      ],
      "metadata": {
        "colab": {
          "base_uri": "https://localhost:8080/"
        },
        "id": "kV0w6Q1m2OHH",
        "outputId": "641362c3-e5a4-4547-dd1b-26504212ae12"
      },
      "execution_count": 2,
      "outputs": [
        {
          "output_type": "stream",
          "name": "stdout",
          "text": [
            "enter your age : 23\n",
            "23\n"
          ]
        }
      ]
    },
    {
      "cell_type": "code",
      "source": [
        "# slicing\n",
        "name = \"soham chougule\"\n",
        "print(name[1:len(name)])\n",
        "print(name[:len(name)])\n",
        "print(name[-8:len(name)])\n",
        "print(name[6:])"
      ],
      "metadata": {
        "colab": {
          "base_uri": "https://localhost:8080/"
        },
        "id": "PQc7qpaPiw8t",
        "outputId": "dd99fd39-05e7-4e2b-d61c-58cce867a2a4"
      },
      "execution_count": 14,
      "outputs": [
        {
          "output_type": "stream",
          "name": "stdout",
          "text": [
            "oham chougule\n",
            "soham chougule\n",
            "chougule\n",
            "chougule\n"
          ]
        }
      ]
    },
    {
      "cell_type": "code",
      "source": [
        "#lists --> mutable\n",
        "# but strings are immutable ex- name[0]='k' not allowed\n",
        "marks=[1,2,95,75]\n",
        "print(marks)\n",
        "print(marks[4:5])\n",
        "marks.sort(reverse=True)\n",
        "print(marks)"
      ],
      "metadata": {
        "colab": {
          "base_uri": "https://localhost:8080/"
        },
        "id": "z4pkOlayoelg",
        "outputId": "9b64e644-bb88-452d-b73b-8145819967f4"
      },
      "execution_count": 25,
      "outputs": [
        {
          "output_type": "stream",
          "name": "stdout",
          "text": [
            "[1, 2, 95, 75]\n",
            "[]\n",
            "[95, 75, 2, 1]\n"
          ]
        }
      ]
    },
    {
      "cell_type": "code",
      "source": [
        "# tuple --> immutable\n",
        "tup = (1,2,3,4)\n",
        "print(tup[1])\n",
        "print(tup[:3])"
      ],
      "metadata": {
        "colab": {
          "base_uri": "https://localhost:8080/"
        },
        "id": "-GUKFHAUx4Wo",
        "outputId": "035b3c75-8992-40a4-829b-113597700e5c"
      },
      "execution_count": 3,
      "outputs": [
        {
          "output_type": "stream",
          "name": "stdout",
          "text": [
            "2\n",
            "(1, 2, 3)\n"
          ]
        }
      ]
    },
    {
      "cell_type": "code",
      "source": [
        "mov = []\n",
        "for i in range(3):\n",
        "  a = input(\"enter name\")\n",
        "  mov.append(a);\n",
        "print(mov )"
      ],
      "metadata": {
        "colab": {
          "base_uri": "https://localhost:8080/"
        },
        "id": "WyLq2WQIiklD",
        "outputId": "5a1a886f-3833-4950-8f59-e267f7b87a8d"
      },
      "execution_count": 15,
      "outputs": [
        {
          "output_type": "stream",
          "name": "stdout",
          "text": [
            "enter name1\n",
            "enter name1\n",
            "enter name2\n",
            "['1', '1', '2']\n"
          ]
        }
      ]
    },
    {
      "cell_type": "code",
      "source": [
        "# Dictionary\n",
        "# key - immutable\n",
        "# value - any\n",
        "# no index, no duplicate keys\n",
        "info={\n",
        "    \"name\":\"gok\"\n",
        "}\n",
        "print(info)\n",
        "info[\"name\"] = \"soham\"\n",
        "info[\"name\"]\n",
        "coll = {}"
      ],
      "metadata": {
        "colab": {
          "base_uri": "https://localhost:8080/",
          "height": 53
        },
        "id": "3PwjLeOSj9CA",
        "outputId": "a04bb3eb-af8c-4bb9-b32f-170b2c6df5d5"
      },
      "execution_count": 19,
      "outputs": [
        {
          "output_type": "stream",
          "name": "stdout",
          "text": [
            "{'name': 'gok'}\n"
          ]
        },
        {
          "output_type": "execute_result",
          "data": {
            "text/plain": [
              "'soham'"
            ],
            "application/vnd.google.colaboratory.intrinsic+json": {
              "type": "string"
            }
          },
          "metadata": {},
          "execution_count": 19
        }
      ]
    },
    {
      "cell_type": "code",
      "source": [
        "# set -->elements immutable but set is mutable - no order - unique\n",
        "# cant store list and dictionary since they are mutable\n",
        "coll = set() # empty sdet\n",
        "print(type(coll))\n",
        "# pop, add, remove, clear"
      ],
      "metadata": {
        "colab": {
          "base_uri": "https://localhost:8080/"
        },
        "id": "FHgVxoJLrfxg",
        "outputId": "b2438512-dfc8-4c54-f57b-d8a2ff6a4f79"
      },
      "execution_count": 24,
      "outputs": [
        {
          "output_type": "stream",
          "name": "stdout",
          "text": [
            "<class 'set'>\n"
          ]
        }
      ]
    },
    {
      "cell_type": "code",
      "source": [
        "x=1\n",
        "while True:\n",
        "  print(x)\n",
        "  if(x==5):\n",
        "    break\n",
        "  x+=1"
      ],
      "metadata": {
        "colab": {
          "base_uri": "https://localhost:8080/"
        },
        "id": "XkqFB5hAuHv0",
        "outputId": "d2f16e71-02f9-47a7-823f-1aa55fe43688"
      },
      "execution_count": 37,
      "outputs": [
        {
          "output_type": "stream",
          "name": "stdout",
          "text": [
            "1\n",
            "2\n",
            "3\n",
            "4\n",
            "5\n"
          ]
        }
      ]
    },
    {
      "cell_type": "code",
      "source": [
        "print(tup)\n",
        "for t in tup:\n",
        "  print(t)\n",
        ""
      ],
      "metadata": {
        "colab": {
          "base_uri": "https://localhost:8080/"
        },
        "id": "DpH94b4YvVNX",
        "outputId": "9aa8f589-43fc-43f4-8690-0436d84722af"
      },
      "execution_count": 4,
      "outputs": [
        {
          "output_type": "stream",
          "name": "stdout",
          "text": [
            "(1, 2, 3, 4)\n",
            "1\n",
            "2\n",
            "3\n",
            "4\n"
          ]
        }
      ]
    }
  ]
}